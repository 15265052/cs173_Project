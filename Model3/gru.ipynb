{
 "cells": [
  {
   "cell_type": "code",
   "execution_count": 150,
   "metadata": {},
   "outputs": [],
   "source": [
    "import numpy as np\n",
    "import pandas as pd\n",
    "import json\n",
    "from tqdm import tqdm\n",
    "import random\n",
    "import torch\n",
    "import torch.nn as nn\n",
    "\n",
    "import torch.optim as optim\n",
    "\n",
    "from datetime import datetime, timedelta\n",
    "from torch.autograd import Variable\n",
    "import torch.nn.functional as F"
   ]
  },
  {
   "cell_type": "code",
   "execution_count": 151,
   "metadata": {},
   "outputs": [],
   "source": [
    "def DataClean(f1,f2):\n",
    "\twith open(f1) as f:\n",
    "\t\tdata = json.load(f)\n",
    "\tfor i in data.values():\n",
    "\t\tfor j in i:\n",
    "\t\t\tdel j[\"place_vector\"]\n",
    "\t\t\tdel j[\"city_vector\"]\n",
    "\tjson.dump(data,open(f2,'w'),ensure_ascii=False)"
   ]
  },
  {
   "cell_type": "code",
   "execution_count": 152,
   "metadata": {},
   "outputs": [],
   "source": [
    "# for i in range(3):\n",
    "# \tDataClean('classified_data_'+str(i)+'.json','data_'+str(i)+'.json')"
   ]
  },
  {
   "cell_type": "code",
   "execution_count": 153,
   "metadata": {},
   "outputs": [],
   "source": [
    "with open('data_0.json') as f:\n",
    "\td0 = json.load(f)\n",
    "with open('data_1.json') as f:\n",
    "\td1 = json.load(f)\n",
    "with open('data_2.json') as f:\n",
    "\td2 = json.load(f)"
   ]
  },
  {
   "cell_type": "code",
   "execution_count": 154,
   "metadata": {},
   "outputs": [],
   "source": [
    "input_size = 0\n",
    "for city in d2.values():\n",
    "\tif input_size != 0:\n",
    "\t\tbreak\n",
    "\tfor p in city:\n",
    "\t\tif type(p['patient_vector']) == list:\n",
    "\t\t\tinput_size = len(p['patient_vector'])\n",
    "\t\t\tbreak"
   ]
  },
  {
   "cell_type": "code",
   "execution_count": 155,
   "metadata": {},
   "outputs": [
    {
     "data": {
      "text/plain": [
       "300"
      ]
     },
     "execution_count": 155,
     "metadata": {},
     "output_type": "execute_result"
    }
   ],
   "source": [
    "input_size"
   ]
  },
  {
   "cell_type": "code",
   "execution_count": 156,
   "metadata": {},
   "outputs": [
    {
     "name": "stdout",
     "output_type": "stream",
     "text": [
      "重庆\n",
      "泉州\n",
      "南京\n"
     ]
    }
   ],
   "source": [
    "total = 0\n",
    "useful = 0\n",
    "for city in d0.values():\n",
    "\ttotal += len(city)\n",
    "\tif len(city)>70:\n",
    "\t\tprint(city[0]['true_city'])\n",
    "\tfor p in city:\n",
    "\t\tif type(p['patient_vector']) == list:\n",
    "\t\t\tuseful += 1"
   ]
  },
  {
   "cell_type": "code",
   "execution_count": 157,
   "metadata": {},
   "outputs": [
    {
     "name": "stdout",
     "output_type": "stream",
     "text": [
      "兰州\n",
      "重庆\n",
      "泉州\n",
      "南京\n"
     ]
    }
   ],
   "source": [
    "total = 0\n",
    "useful = 0\n",
    "for city in d1.values():\n",
    "\ttotal += len(city)\n",
    "\tif len(city)>70:\n",
    "\t\tprint(city[0]['true_city'])\n",
    "\tfor p in city:\n",
    "\t\tif type(p['patient_vector']) == list:\n",
    "\t\t\tuseful += 1"
   ]
  },
  {
   "cell_type": "code",
   "execution_count": 158,
   "metadata": {},
   "outputs": [],
   "source": [
    "# d1['南京']"
   ]
  },
  {
   "cell_type": "code",
   "execution_count": 159,
   "metadata": {},
   "outputs": [
    {
     "name": "stdout",
     "output_type": "stream",
     "text": [
      "兰州\n",
      "泉州\n",
      "南京\n"
     ]
    }
   ],
   "source": [
    "total = 0\n",
    "useful = 0\n",
    "for city in d2.values():\n",
    "\ttotal += len(city)\n",
    "\tif len(city)>30:\n",
    "\t\tprint(city[0]['true_city'])\n",
    "\tfor p in city:\n",
    "\t\tif type(p['patient_vector']) == list:\n",
    "\t\t\tuseful += 1\n"
   ]
  },
  {
   "cell_type": "code",
   "execution_count": 160,
   "metadata": {},
   "outputs": [
    {
     "data": {
      "text/plain": [
       "{'2021:08:30',\n",
       " '2021:09:08',\n",
       " '2021:09:09',\n",
       " '2021:09:10',\n",
       " '2021:09:11',\n",
       " '2021:09:12',\n",
       " '2021:09:16',\n",
       " '2022:03:08',\n",
       " '2022:03:09',\n",
       " '2022:03:10',\n",
       " '2022:03:11',\n",
       " '2022:03:12',\n",
       " '2022:03:13',\n",
       " '2022:03:14',\n",
       " '2022:03:15',\n",
       " '2022:03:16',\n",
       " '2022:03:17',\n",
       " '2022:03:18',\n",
       " '2022:03:19',\n",
       " '2022:03:20',\n",
       " '2022:03:21',\n",
       " '2022:03:22',\n",
       " '2022:03:23'}"
      ]
     },
     "execution_count": 160,
     "metadata": {},
     "output_type": "execute_result"
    }
   ],
   "source": [
    "tset = set()\n",
    "for p in d0['泉州']:\n",
    "\ttset.add(p['time'])\n",
    "tset"
   ]
  },
  {
   "cell_type": "code",
   "execution_count": 161,
   "metadata": {},
   "outputs": [],
   "source": [
    "\n",
    "datas = {}\n",
    "for city_string in ('兰州','重庆','南京','泉州'):\n",
    "\tcity = d0[city_string]\n",
    "\tstart_date = datetime.strptime(city[0]['time'],'%Y:%m:%d')\n",
    "\tend_date = datetime.strptime(city[-1]['time'],'%Y:%m:%d')\n",
    "\t# start_date = datetime.strptime('2022:03:08','%Y:%m:%d')\n",
    "\t# end_date = datetime.strptime('2022:03:23','%Y:%m:%d')\n",
    "\tCNT = []\n",
    "\tVECTOR = []\n",
    "\twhile start_date < end_date:\n",
    "\t\tstart_date += timedelta(days=1)\n",
    "\t\tcnt = 0\n",
    "\t\tvector = []\n",
    "\t\tfor p in city:\n",
    "\t\t\tif p['time']==(start_date).strftime('%Y:%m:%d'):\n",
    "\t\t\t\tcnt+=1\n",
    "\t\t\t\tvector.append(p['patient_vector'])\n",
    "\t\tif any((type(v)==list for v in vector)):\n",
    "\t\t\tvector = np.array([v for v in vector if type(v)==list])\n",
    "\t\t\tvector = np.mean(vector,axis=0)\n",
    "\t\telse:\n",
    "\t\t\tvector = np.zeros((input_size,))\n",
    "\t\tCNT.append(cnt)\n",
    "\t\tVECTOR.append(vector)\n",
    "\tCNT = np.array(CNT)\n",
    "\tVECTOR = np.array(VECTOR)\n",
    "\ttemp = np.hstack((CNT.reshape(-1,1),VECTOR))\n",
    "\n",
    "\tdatas[city_string] = torch.tensor(temp.reshape(-1,1,input_size+1)).float()\n",
    "input_size += 1"
   ]
  },
  {
   "cell_type": "code",
   "execution_count": 162,
   "metadata": {},
   "outputs": [],
   "source": [
    "# device = torch.device(\"cuda:0\" if torch.cuda.is_available() else \"cpu\")"
   ]
  },
  {
   "cell_type": "code",
   "execution_count": 163,
   "metadata": {},
   "outputs": [
    {
     "data": {
      "text/plain": [
       "4"
      ]
     },
     "execution_count": 163,
     "metadata": {},
     "output_type": "execute_result"
    }
   ],
   "source": [
    "len(datas)"
   ]
  },
  {
   "cell_type": "code",
   "execution_count": 164,
   "metadata": {},
   "outputs": [],
   "source": [
    "class Net(nn.Module):\n",
    "    def __init__(self,input_size,hidden_size,output_size):\n",
    "        super(Net, self).__init__()\n",
    "        self.gru = nn.GRU(input_size=input_size, \\\n",
    "            hidden_size=hidden_size)\n",
    "        self.linear = nn.Linear(hidden_size,output_size) \n",
    "        self.relu = nn.ReLU()\n",
    "\n",
    "    def forward(self, x):\n",
    "        output, h_n = self.gru(x)\n",
    "        # output = self.relu(output[-1])\n",
    "        output = self.linear(output)\n",
    "        output = self.relu(output[-1])\n",
    "        return output\n",
    "\n",
    "net = Net(input_size,16,1)\n",
    "# net.to(device)"
   ]
  },
  {
   "cell_type": "code",
   "execution_count": 165,
   "metadata": {},
   "outputs": [],
   "source": [
    "\n",
    "# create your optimizer\n",
    "optimizer = optim.Adam(net.parameters(), lr=0.01)\n",
    "criterion = nn.MSELoss()\n"
   ]
  },
  {
   "cell_type": "code",
   "execution_count": 166,
   "metadata": {},
   "outputs": [],
   "source": [
    "def data_iter(data,seq_len):\n",
    "\tindexs = np.arange(len(data)-seq_len)\n",
    "\trandom.shuffle(indexs)\n",
    "\tfor i in indexs:\n",
    "\t\t# print(data[i:i+7].shape)\n",
    "\t\tyield data[i:i+seq_len],data[i+seq_len][0][0]"
   ]
  },
  {
   "cell_type": "code",
   "execution_count": 167,
   "metadata": {},
   "outputs": [
    {
     "name": "stderr",
     "output_type": "stream",
     "text": [
      " 10%|█         | 5/50 [00:10<01:33,  2.07s/it]"
     ]
    },
    {
     "name": "stdout",
     "output_type": "stream",
     "text": [
      "5 3889.5673598822905\n"
     ]
    },
    {
     "name": "stderr",
     "output_type": "stream",
     "text": [
      " 20%|██        | 10/50 [00:19<01:16,  1.92s/it]"
     ]
    },
    {
     "name": "stdout",
     "output_type": "stream",
     "text": [
      "10 3577.5669859847403\n"
     ]
    },
    {
     "name": "stderr",
     "output_type": "stream",
     "text": [
      " 30%|███       | 15/50 [00:29<01:06,  1.91s/it]"
     ]
    },
    {
     "name": "stdout",
     "output_type": "stream",
     "text": [
      "15 3792.320777404577\n"
     ]
    },
    {
     "name": "stderr",
     "output_type": "stream",
     "text": [
      " 40%|████      | 20/50 [00:38<00:55,  1.85s/it]"
     ]
    },
    {
     "name": "stdout",
     "output_type": "stream",
     "text": [
      "20 2963.937829045579\n"
     ]
    },
    {
     "name": "stderr",
     "output_type": "stream",
     "text": [
      " 50%|█████     | 25/50 [00:47<00:45,  1.81s/it]"
     ]
    },
    {
     "name": "stdout",
     "output_type": "stream",
     "text": [
      "25 2566.301380691788\n"
     ]
    },
    {
     "name": "stderr",
     "output_type": "stream",
     "text": [
      " 60%|██████    | 30/50 [00:56<00:34,  1.75s/it]"
     ]
    },
    {
     "name": "stdout",
     "output_type": "stream",
     "text": [
      "30 2534.4929598923773\n"
     ]
    },
    {
     "name": "stderr",
     "output_type": "stream",
     "text": [
      " 70%|███████   | 35/50 [01:05<00:27,  1.84s/it]"
     ]
    },
    {
     "name": "stdout",
     "output_type": "stream",
     "text": [
      "35 3279.9154750634334\n"
     ]
    },
    {
     "name": "stderr",
     "output_type": "stream",
     "text": [
      " 80%|████████  | 40/50 [01:15<00:19,  1.95s/it]"
     ]
    },
    {
     "name": "stdout",
     "output_type": "stream",
     "text": [
      "40 2521.448900565505\n"
     ]
    },
    {
     "name": "stderr",
     "output_type": "stream",
     "text": [
      " 90%|█████████ | 45/50 [01:25<00:09,  1.98s/it]"
     ]
    },
    {
     "name": "stdout",
     "output_type": "stream",
     "text": [
      "45 2022.545015200274\n"
     ]
    },
    {
     "name": "stderr",
     "output_type": "stream",
     "text": [
      "100%|██████████| 50/50 [01:37<00:00,  1.95s/it]"
     ]
    },
    {
     "name": "stdout",
     "output_type": "stream",
     "text": [
      "50 1633.5522323632904\n",
      "Finished Training\n"
     ]
    },
    {
     "name": "stderr",
     "output_type": "stream",
     "text": [
      "\n"
     ]
    }
   ],
   "source": [
    "epoches = 50\n",
    "seq_len = 7\n",
    "for epoch in tqdm(range(epoches)):  # loop over the dataset multiple times\n",
    "\n",
    "    running_loss = 0.0\n",
    "    for city in datas.values():\n",
    "        for i,data in enumerate(data_iter(city,seq_len)):\n",
    "            # get the inputs; data is a list of [inputs, labels]\n",
    "            inputs, labels = data\n",
    "            # inputs, labels = inputs.to(device), labels.view(1,1).to(device)\n",
    "            inputs, labels = inputs, labels.view(1,1)\n",
    "            # raise Exception(inputs.size)\n",
    "            # zero the parameter gradients\n",
    "            optimizer.zero_grad()\n",
    "\n",
    "            # forward + backward + optimize\n",
    "            outputs = net(inputs)\n",
    "            # if labels != torch.tensor(0.,):\n",
    "            #     raise Exception(labels.size(),labels)\n",
    "            # else:\n",
    "            #     raise Exception(inputs,labels)\n",
    "            # if not i: print(outputs)\n",
    "            loss = criterion(outputs, labels)\n",
    "            loss.backward()\n",
    "            optimizer.step()\n",
    "\n",
    "            running_loss += loss.item()\n",
    "\n",
    "    if epoch%5 == 4:\n",
    "        print(epoch+1,running_loss)\n",
    "\n",
    "    running_loss = 0.0\n",
    "\n",
    "print('Finished Training')"
   ]
  },
  {
   "cell_type": "code",
   "execution_count": 168,
   "metadata": {},
   "outputs": [
    {
     "name": "stdout",
     "output_type": "stream",
     "text": [
      "兰州\n",
      "tensor([[0.]], grad_fn=<ReluBackward0>)\n",
      "tensor(1.)\n",
      "重庆\n",
      "tensor([[0.]], grad_fn=<ReluBackward0>)\n",
      "tensor(1.)\n",
      "南京\n",
      "tensor([[0.]], grad_fn=<ReluBackward0>)\n",
      "tensor(1.)\n",
      "泉州\n",
      "tensor([[0.9251]], grad_fn=<ReluBackward0>)\n",
      "tensor(1.)\n"
     ]
    }
   ],
   "source": [
    "for city_string in ('兰州','重庆','南京','泉州'):\n",
    "\n",
    "\tinputs = datas[city_string][-8:-1]\n",
    "\toutputs = net(inputs)\n",
    "\tprint(city_string)\n",
    "\tprint(outputs)\n",
    "\tprint(datas[city_string][-1][0][0])"
   ]
  },
  {
   "cell_type": "code",
   "execution_count": 169,
   "metadata": {},
   "outputs": [],
   "source": [
    "# for i in net.gru.parameters():\n",
    "# \tprint(i)"
   ]
  }
 ],
 "metadata": {
  "interpreter": {
   "hash": "dfa0342052044840b0de6043bfc39f6805ffa1411cba6a71c8075fbda85253ce"
  },
  "kernelspec": {
   "display_name": "Python 3.8.5 ('base')",
   "language": "python",
   "name": "python3"
  },
  "language_info": {
   "codemirror_mode": {
    "name": "ipython",
    "version": 3
   },
   "file_extension": ".py",
   "mimetype": "text/x-python",
   "name": "python",
   "nbconvert_exporter": "python",
   "pygments_lexer": "ipython3",
   "version": "3.8.5"
  },
  "orig_nbformat": 4
 },
 "nbformat": 4,
 "nbformat_minor": 2
}
