{
 "cells": [
  {
   "cell_type": "code",
   "execution_count": 1,
   "metadata": {},
   "outputs": [],
   "source": [
    "import numpy as np\n",
    "import pandas as pd\n",
    "import json\n",
    "from tqdm import tqdm\n",
    "import random\n",
    "from os.path import exists\n",
    "import torch\n",
    "import torch.nn as nn\n",
    "\n",
    "import torch.optim as optim\n",
    "\n",
    "from datetime import datetime, timedelta\n",
    "from torch.autograd import Variable\n",
    "import torch.nn.functional as F"
   ]
  },
  {
   "cell_type": "code",
   "execution_count": 2,
   "metadata": {},
   "outputs": [],
   "source": [
    "def DataClean(f1,f2):\n",
    "\twith open(f1) as f:\n",
    "\t\tdata = json.load(f)\n",
    "\tfor i in data.values():\n",
    "\t\tfor j in i:\n",
    "\t\t\tdel j[\"place_vector\"]\n",
    "\t\t\tdel j[\"city_vector\"]\n",
    "\tjson.dump(data,open(f2,'w'),ensure_ascii=False)"
   ]
  },
  {
   "cell_type": "code",
   "execution_count": 3,
   "metadata": {},
   "outputs": [],
   "source": [
    "for i in range(3):\n",
    "\tif not exists('data_'+str(i)+'.json'):\n",
    "\t\tDataClean('classified_data_'+str(i)+'.json','data_'+str(i)+'.json')"
   ]
  },
  {
   "cell_type": "code",
   "execution_count": 4,
   "metadata": {},
   "outputs": [],
   "source": [
    "# with open('data_0.json') as f:\n",
    "# \td0 = json.load(f)\n",
    "# with open('data_1.json') as f:\n",
    "# \td1 = json.load(f)\n",
    "# with open('data_2.json') as f:\n",
    "# \td2 = json.load(f)"
   ]
  },
  {
   "cell_type": "code",
   "execution_count": 5,
   "metadata": {},
   "outputs": [],
   "source": [
    "def get_data(opt: int):\n",
    "\twith open('data_'+str(opt)+'.json') as f:\n",
    "\t\tdata = json.load(f)\n",
    "\treturn data\n",
    "data = get_data(1)"
   ]
  },
  {
   "cell_type": "code",
   "execution_count": 6,
   "metadata": {},
   "outputs": [],
   "source": [
    "input_size = 0\n",
    "for city in data.values():\n",
    "\tif input_size != 0:\n",
    "\t\tbreak\n",
    "\tfor p in city:\n",
    "\t\tif type(p['patient_vector']) == list:\n",
    "\t\t\tinput_size = len(p['patient_vector'])\n",
    "\t\t\tbreak"
   ]
  },
  {
   "cell_type": "code",
   "execution_count": 7,
   "metadata": {},
   "outputs": [
    {
     "data": {
      "text/plain": [
       "300"
      ]
     },
     "execution_count": 7,
     "metadata": {},
     "output_type": "execute_result"
    }
   ],
   "source": [
    "input_size"
   ]
  },
  {
   "cell_type": "code",
   "execution_count": 8,
   "metadata": {},
   "outputs": [
    {
     "name": "stdout",
     "output_type": "stream",
     "text": [
      "张掖\n",
      "天水\n",
      "兰州\n",
      "重庆\n",
      "德宏傣族景颇族自治州瑞丽\n",
      "昆明\n",
      "泉州\n",
      "厦门\n",
      "莆田\n",
      "南京\n",
      "苏州\n"
     ]
    }
   ],
   "source": [
    "total = 0\n",
    "useful = 0\n",
    "city_set = set()\n",
    "for city in data.values():\n",
    "\ttotal += len(city)\n",
    "\tif len(city)>30:\n",
    "\t\tprint(city[0]['true_city'])\n",
    "\t\tcity_set.add(city[0]['true_city'])\n",
    "\tfor p in city:\n",
    "\t\tif type(p['patient_vector']) == list:\n",
    "\t\t\tuseful += 1\n"
   ]
  },
  {
   "cell_type": "code",
   "execution_count": 9,
   "metadata": {},
   "outputs": [
    {
     "data": {
      "text/plain": [
       "{'2021:07:20',\n",
       " '2021:07:24',\n",
       " '2021:07:27',\n",
       " '2021:07:28',\n",
       " '2021:07:29',\n",
       " '2021:10:26',\n",
       " '2021:10:27',\n",
       " '2021:10:28',\n",
       " '2021:10:29',\n",
       " '2021:10:30',\n",
       " '2021:10:31',\n",
       " '2021:11:01',\n",
       " '2021:11:02',\n",
       " '2021:11:03',\n",
       " '2022:02:26',\n",
       " '2022:02:27',\n",
       " '2022:02:28',\n",
       " '2022:03:02',\n",
       " '2022:03:04',\n",
       " '2022:03:05',\n",
       " '2022:03:06',\n",
       " '2022:03:07',\n",
       " '2022:03:08',\n",
       " '2022:03:09',\n",
       " '2022:03:10',\n",
       " '2022:03:11',\n",
       " '2022:03:12',\n",
       " '2022:03:13',\n",
       " '2022:03:14',\n",
       " '2022:03:15',\n",
       " '2022:03:16',\n",
       " '2022:03:17',\n",
       " '2022:03:25',\n",
       " '2022:03:27',\n",
       " '2022:03:28',\n",
       " '2022:03:29'}"
      ]
     },
     "execution_count": 9,
     "metadata": {},
     "output_type": "execute_result"
    }
   ],
   "source": [
    "# tset = set()\n",
    "# for p in data['重庆']:\n",
    "# \ttset.add(p['time'])\n",
    "# tset"
   ]
  },
  {
   "cell_type": "code",
   "execution_count": 10,
   "metadata": {},
   "outputs": [
    {
     "data": {
      "text/plain": [
       "300"
      ]
     },
     "execution_count": 10,
     "metadata": {},
     "output_type": "execute_result"
    }
   ],
   "source": [
    "start_date = datetime.strptime('2022:03:08','%Y:%m:%d')\n",
    "end_date = datetime.strptime('2022:03:23','%Y:%m:%d')\n",
    "type((end_date-start_date).days)\n",
    "input_size"
   ]
  },
  {
   "cell_type": "code",
   "execution_count": 11,
   "metadata": {},
   "outputs": [],
   "source": [
    "\n",
    "datas = {}\n",
    "for city_string in city_set:\n",
    "\tcity = data[city_string]\n",
    "\tstart_date = datetime.strptime(city[0]['time'],'%Y:%m:%d')\n",
    "\tend_date = datetime.strptime(city[-1]['time'],'%Y:%m:%d')\n",
    "\t# start_date = datetime.strptime('2022:03:08','%Y:%m:%d')\n",
    "\t# end_date = datetime.strptime('2022:03:23','%Y:%m:%d')\n",
    "\t# CNT = []\n",
    "\t# VECTOR = []\n",
    "\t# while start_date < end_date:\n",
    "\t# \tstart_date += timedelta(days=1)\n",
    "\t# \tcnt = 0\n",
    "\t# \tvector = []\n",
    "\t# \tfor p in city:\n",
    "\t# \t\tif p['time']==(start_date).strftime('%Y:%m:%d'):\n",
    "\t# \t\t\tcnt+=1\n",
    "\t# \t\t\tvector.append(p['patient_vector'])\n",
    "\n",
    "\t# \tif any((type(v)==list for v in vector)):\n",
    "\t# \t\tvector = np.array([v for v in vector if type(v)==list])\n",
    "\t# \t\tvector = np.mean(vector,axis=0)\n",
    "\t# \telse:\n",
    "\t# \t\tvector = np.zeros((input_size,))\n",
    "\t# \tCNT.append(cnt)\n",
    "\t# \tVECTOR.append(vector)\n",
    "\t# CNT = np.array(CNT)\n",
    "\t# VECTOR = np.array(VECTOR)\n",
    "\t# temp = np.hstack((CNT.reshape(-1,1),VECTOR))\n",
    "\tperiod = (end_date-start_date).days+1\n",
    "\tCNT = np.zeros((period))\n",
    "\tVECTOR = np.zeros((period, input_size))\n",
    "\tcnt = 0\n",
    "\tvector = []\n",
    "\tday_idx = 0\n",
    "\tfor p in city:\n",
    "\t\tif p['time'] != (start_date).strftime('%Y:%m:%d'):\n",
    "\t\t\tif any((type(v)==list for v in vector)):\n",
    "\t\t\t\tvector = np.array([v for v in vector if type(v)==list])\n",
    "\t\t\t\tVECTOR[day_idx] = np.mean(vector,axis=0)\n",
    "\t\t\tCNT[day_idx] = cnt\n",
    "\t\t\tcnt = 0\n",
    "\t\t\tvector = []\n",
    "\t\twhile p['time'] != (start_date).strftime('%Y:%m:%d'):\n",
    "\t\t\tstart_date += timedelta(days=1)\n",
    "\t\t\tday_idx += 1\n",
    "\t\tcnt += 1\n",
    "\t\tvector.append(p['patient_vector'])\n",
    "\telse:\n",
    "\t\tif any((type(v)==list for v in vector)):\n",
    "\t\t\tvector = np.array([v for v in vector if type(v)==list])\n",
    "\t\t\tVECTOR[day_idx] = np.mean(vector,axis=0)\n",
    "\t\tCNT[day_idx] = cnt\n",
    "\ttemp = np.hstack((CNT.reshape(-1,1),VECTOR))\n",
    "\tdatas[city_string] = torch.tensor(temp.reshape(-1,1,input_size+1)).float()\n",
    "# input_size += 1"
   ]
  },
  {
   "cell_type": "code",
   "execution_count": 12,
   "metadata": {},
   "outputs": [
    {
     "data": {
      "text/plain": [
       "torch.Size([253, 1, 301])"
      ]
     },
     "execution_count": 12,
     "metadata": {},
     "output_type": "execute_result"
    }
   ],
   "source": [
    "datas['重庆'].size()"
   ]
  },
  {
   "cell_type": "code",
   "execution_count": 13,
   "metadata": {},
   "outputs": [],
   "source": [
    "# device = torch.device(\"cuda:0\" if torch.cuda.is_available() else \"cpu\")"
   ]
  },
  {
   "cell_type": "code",
   "execution_count": 14,
   "metadata": {},
   "outputs": [
    {
     "data": {
      "text/plain": [
       "11"
      ]
     },
     "execution_count": 14,
     "metadata": {},
     "output_type": "execute_result"
    }
   ],
   "source": [
    "test_size = 1\n",
    "len(datas)"
   ]
  },
  {
   "cell_type": "code",
   "execution_count": 15,
   "metadata": {},
   "outputs": [],
   "source": [
    "class Net(nn.Module):\n",
    "    def __init__(self,input_size,hidden_size,output_size):\n",
    "        super(Net, self).__init__()\n",
    "        self.gru = nn.GRU(input_size=input_size+1, \\\n",
    "            hidden_size=hidden_size)\n",
    "        self.linear = nn.Linear(hidden_size,output_size) \n",
    "        self.relu = nn.ReLU()\n",
    "\n",
    "    def forward(self, x):\n",
    "        output, h_n = self.gru(x)\n",
    "        # output = self.relu(output[-1])\n",
    "        output = self.linear(output)\n",
    "        output = self.relu(output[-1])\n",
    "        return output\n",
    "\n",
    "net = Net(input_size,16,1)\n",
    "# net.to(device)"
   ]
  },
  {
   "cell_type": "code",
   "execution_count": 16,
   "metadata": {},
   "outputs": [],
   "source": [
    "\n",
    "# create your optimizer\n",
    "optimizer = optim.Adam(net.parameters(), lr=0.01)\n",
    "criterion = nn.MSELoss()\n"
   ]
  },
  {
   "cell_type": "code",
   "execution_count": 17,
   "metadata": {},
   "outputs": [],
   "source": [
    "def data_iter(data,seq_len,test_size):\n",
    "\tindexs = np.arange(len(data)-seq_len-test_size)\n",
    "\trandom.shuffle(indexs)\n",
    "\tfor i in indexs:\n",
    "\t\t# print(data[i:i+7].shape)\n",
    "\t\tyield data[i:i+seq_len],data[i+seq_len][0][0]"
   ]
  },
  {
   "cell_type": "code",
   "execution_count": 18,
   "metadata": {},
   "outputs": [
    {
     "name": "stderr",
     "output_type": "stream",
     "text": [
      "  5%|▌         | 5/100 [00:32<08:44,  5.52s/it]"
     ]
    },
    {
     "name": "stdout",
     "output_type": "stream",
     "text": [
      "5 7130.470533533259\n"
     ]
    },
    {
     "name": "stderr",
     "output_type": "stream",
     "text": [
      " 10%|█         | 10/100 [00:54<06:40,  4.45s/it]"
     ]
    },
    {
     "name": "stdout",
     "output_type": "stream",
     "text": [
      "10 5803.214492723833\n"
     ]
    },
    {
     "name": "stderr",
     "output_type": "stream",
     "text": [
      " 15%|█▌        | 15/100 [01:17<06:28,  4.57s/it]"
     ]
    },
    {
     "name": "stdout",
     "output_type": "stream",
     "text": [
      "15 4935.855244759528\n"
     ]
    },
    {
     "name": "stderr",
     "output_type": "stream",
     "text": [
      " 20%|██        | 20/100 [01:41<06:26,  4.83s/it]"
     ]
    },
    {
     "name": "stdout",
     "output_type": "stream",
     "text": [
      "20 4556.108162525692\n"
     ]
    },
    {
     "name": "stderr",
     "output_type": "stream",
     "text": [
      " 25%|██▌       | 25/100 [02:06<06:14,  4.99s/it]"
     ]
    },
    {
     "name": "stdout",
     "output_type": "stream",
     "text": [
      "25 5025.803797145309\n"
     ]
    },
    {
     "name": "stderr",
     "output_type": "stream",
     "text": [
      " 30%|███       | 30/100 [02:32<05:57,  5.11s/it]"
     ]
    },
    {
     "name": "stdout",
     "output_type": "stream",
     "text": [
      "30 6960.064668729476\n"
     ]
    },
    {
     "name": "stderr",
     "output_type": "stream",
     "text": [
      " 35%|███▌      | 35/100 [03:07<07:26,  6.88s/it]"
     ]
    },
    {
     "name": "stdout",
     "output_type": "stream",
     "text": [
      "35 4917.800974982325\n"
     ]
    },
    {
     "name": "stderr",
     "output_type": "stream",
     "text": [
      " 40%|████      | 40/100 [03:42<06:15,  6.25s/it]"
     ]
    },
    {
     "name": "stdout",
     "output_type": "stream",
     "text": [
      "40 4717.400620000204\n"
     ]
    },
    {
     "name": "stderr",
     "output_type": "stream",
     "text": [
      " 45%|████▌     | 45/100 [04:09<05:04,  5.54s/it]"
     ]
    },
    {
     "name": "stdout",
     "output_type": "stream",
     "text": [
      "45 4620.13950637338\n"
     ]
    },
    {
     "name": "stderr",
     "output_type": "stream",
     "text": [
      " 50%|█████     | 50/100 [04:37<04:36,  5.52s/it]"
     ]
    },
    {
     "name": "stdout",
     "output_type": "stream",
     "text": [
      "50 5216.9594223639\n"
     ]
    },
    {
     "name": "stderr",
     "output_type": "stream",
     "text": [
      " 55%|█████▌    | 55/100 [05:08<04:37,  6.16s/it]"
     ]
    },
    {
     "name": "stdout",
     "output_type": "stream",
     "text": [
      "55 4454.599413399745\n"
     ]
    },
    {
     "name": "stderr",
     "output_type": "stream",
     "text": [
      " 60%|██████    | 60/100 [05:36<03:31,  5.29s/it]"
     ]
    },
    {
     "name": "stdout",
     "output_type": "stream",
     "text": [
      "60 5485.644434839662\n"
     ]
    },
    {
     "name": "stderr",
     "output_type": "stream",
     "text": [
      " 65%|██████▌   | 65/100 [06:00<02:47,  4.78s/it]"
     ]
    },
    {
     "name": "stdout",
     "output_type": "stream",
     "text": [
      "65 5822.398475912225\n"
     ]
    },
    {
     "name": "stderr",
     "output_type": "stream",
     "text": [
      " 70%|███████   | 70/100 [06:26<02:27,  4.91s/it]"
     ]
    },
    {
     "name": "stdout",
     "output_type": "stream",
     "text": [
      "70 6892.501311659813\n"
     ]
    },
    {
     "name": "stderr",
     "output_type": "stream",
     "text": [
      " 75%|███████▌  | 75/100 [06:57<02:28,  5.96s/it]"
     ]
    },
    {
     "name": "stdout",
     "output_type": "stream",
     "text": [
      "75 5850.2048969562165\n"
     ]
    },
    {
     "name": "stderr",
     "output_type": "stream",
     "text": [
      " 80%|████████  | 80/100 [07:37<02:56,  8.83s/it]"
     ]
    },
    {
     "name": "stdout",
     "output_type": "stream",
     "text": [
      "80 4004.9940066735435\n"
     ]
    },
    {
     "name": "stderr",
     "output_type": "stream",
     "text": [
      " 85%|████████▌ | 85/100 [08:08<01:37,  6.52s/it]"
     ]
    },
    {
     "name": "stdout",
     "output_type": "stream",
     "text": [
      "85 5366.975250809919\n"
     ]
    },
    {
     "name": "stderr",
     "output_type": "stream",
     "text": [
      " 90%|█████████ | 90/100 [08:40<01:03,  6.33s/it]"
     ]
    },
    {
     "name": "stdout",
     "output_type": "stream",
     "text": [
      "90 5406.067693743345\n"
     ]
    },
    {
     "name": "stderr",
     "output_type": "stream",
     "text": [
      " 95%|█████████▌| 95/100 [09:11<00:30,  6.10s/it]"
     ]
    },
    {
     "name": "stdout",
     "output_type": "stream",
     "text": [
      "95 4386.063040872274\n"
     ]
    },
    {
     "name": "stderr",
     "output_type": "stream",
     "text": [
      "100%|██████████| 100/100 [09:41<00:00,  5.81s/it]"
     ]
    },
    {
     "name": "stdout",
     "output_type": "stream",
     "text": [
      "100 4040.710724876617\n",
      "Finished Training\n"
     ]
    },
    {
     "name": "stderr",
     "output_type": "stream",
     "text": [
      "\n"
     ]
    }
   ],
   "source": [
    "epoches = 100\n",
    "seq_len = 7\n",
    "for epoch in tqdm(range(epoches)):  # loop over the dataset multiple times\n",
    "\n",
    "    running_loss = 0.0\n",
    "    for city in datas.values():\n",
    "        for i,data in enumerate(data_iter(city,seq_len,test_size)):\n",
    "            # get the inputs; data is a list of [inputs, labels]\n",
    "            inputs, labels = data\n",
    "            # inputs, labels = inputs.to(device), labels.view(1,1).to(device)\n",
    "            inputs, labels = inputs, labels.view(1,1)\n",
    "            # raise Exception(inputs.size)\n",
    "            # zero the parameter gradients\n",
    "            optimizer.zero_grad()\n",
    "\n",
    "            # forward + backward + optimize\n",
    "            outputs = net(inputs)\n",
    "            # if labels != torch.tensor(0.,):\n",
    "            #     raise Exception(labels.size(),labels)\n",
    "            # else:\n",
    "            #     raise Exception(inputs,labels)\n",
    "            # if not i: print(outputs)\n",
    "            loss = criterion(outputs, labels)\n",
    "            loss.backward()\n",
    "            optimizer.step()\n",
    "\n",
    "            running_loss += loss.item()\n",
    "\n",
    "    if epoch%5 == 4:\n",
    "        print(epoch+1,running_loss)\n",
    "\n",
    "    running_loss = 0.0\n",
    "\n",
    "print('Finished Training')"
   ]
  },
  {
   "cell_type": "code",
   "execution_count": 19,
   "metadata": {},
   "outputs": [
    {
     "name": "stdout",
     "output_type": "stream",
     "text": [
      "\n",
      "天水 1 3\n",
      "南京 1 0\n",
      "苏州 4 12\n",
      "莆田 1 0\n",
      "厦门 1 0\n",
      "泉州 1 0\n",
      "昆明 5 1\n",
      "张掖 1 1\n",
      "兰州 1 0\n",
      "重庆 1 5\n",
      "德宏傣族景颇族自治州瑞丽 1 0\n"
     ]
    }
   ],
   "source": [
    "for i in range(test_size):\n",
    "\tprint()\n",
    "\tfor city_string in city_set:\n",
    "\n",
    "\t\tinputs = datas[city_string][-test_size-seq_len-1:-test_size-1]\n",
    "\t\toutputs = net(inputs)\n",
    "\t\tprint(city_string,int(outputs)+1, \\\n",
    "\t\t\tint(datas[city_string][-test_size-1][0][0]))"
   ]
  },
  {
   "cell_type": "code",
   "execution_count": 20,
   "metadata": {},
   "outputs": [],
   "source": [
    "# for city_string in city_set:\n",
    "\n",
    "# \tinputs = datas[city_string][-9:-2]\n",
    "# \toutputs = net(inputs)\n",
    "# \tprint(city_string,int(outputs)+1,int(datas[city_string][-2][0][0]))"
   ]
  },
  {
   "cell_type": "code",
   "execution_count": 21,
   "metadata": {},
   "outputs": [],
   "source": [
    "# for i in net.gru.parameters():\n",
    "# \tprint(i)"
   ]
  }
 ],
 "metadata": {
  "interpreter": {
   "hash": "dfa0342052044840b0de6043bfc39f6805ffa1411cba6a71c8075fbda85253ce"
  },
  "kernelspec": {
   "display_name": "Python 3.8.5 ('base')",
   "language": "python",
   "name": "python3"
  },
  "language_info": {
   "codemirror_mode": {
    "name": "ipython",
    "version": 3
   },
   "file_extension": ".py",
   "mimetype": "text/x-python",
   "name": "python",
   "nbconvert_exporter": "python",
   "pygments_lexer": "ipython3",
   "version": "3.8.5"
  },
  "orig_nbformat": 4
 },
 "nbformat": 4,
 "nbformat_minor": 2
}
