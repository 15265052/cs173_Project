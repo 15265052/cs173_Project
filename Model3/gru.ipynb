{
 "cells": [
  {
   "cell_type": "code",
   "execution_count": null,
   "metadata": {},
   "outputs": [],
   "source": [
    "import numpy as np\n",
    "import pandas as pd\n",
    "import json\n",
    "from tqdm import tqdm\n",
    "import random\n",
    "from os.path import exists\n",
    "\n",
    "import torch\n",
    "import torch.nn as nn\n",
    "import torch.optim as optim\n",
    "\n",
    "from datetime import datetime, timedelta\n",
    "from sklearn.decomposition import PCA"
   ]
  },
  {
   "cell_type": "code",
   "execution_count": null,
   "metadata": {},
   "outputs": [],
   "source": [
    "def DataClean(f1,f2):\n",
    "\twith open(f1) as f:\n",
    "\t\tdata = json.load(f)\n",
    "\tfor i in data.values():\n",
    "\t\tfor j in i:\n",
    "\t\t\tdel j[\"place_vector\"]\n",
    "\t\t\tdel j[\"city_vector\"]\n",
    "\tjson.dump(data,open(f2,'w'),ensure_ascii=False)"
   ]
  },
  {
   "cell_type": "code",
   "execution_count": null,
   "metadata": {},
   "outputs": [],
   "source": [
    "for i in range(3):\n",
    "\tif not exists('data_'+str(i)+'.json'):\n",
    "\t\tDataClean('classified_data_'+str(i)+'.json','data_'+str(i)+'.json')"
   ]
  },
  {
   "cell_type": "code",
   "execution_count": null,
   "metadata": {},
   "outputs": [],
   "source": [
    "# with open('data_0.json') as f:\n",
    "# \td0 = json.load(f)\n",
    "# with open('data_1.json') as f:\n",
    "# \td1 = json.load(f)\n",
    "# with open('data_2.json') as f:\n",
    "# \td2 = json.load(f)"
   ]
  },
  {
   "cell_type": "code",
   "execution_count": null,
   "metadata": {},
   "outputs": [],
   "source": [
    "def get_data(opt: int):\n",
    "\twith open('data_'+str(opt)+'.json') as f:\n",
    "\t\tdata = json.load(f)\n",
    "\treturn data\n",
    "data = get_data(0)"
   ]
  },
  {
   "cell_type": "code",
   "execution_count": null,
   "metadata": {},
   "outputs": [],
   "source": [
    "input_size = 0\n",
    "for city in data.values():\n",
    "\tif input_size != 0:\n",
    "\t\tbreak\n",
    "\tfor p in city:\n",
    "\t\tif type(p['patient_vector']) == list:\n",
    "\t\t\tinput_size = len(p['patient_vector'])\n",
    "\t\t\tbreak"
   ]
  },
  {
   "cell_type": "code",
   "execution_count": null,
   "metadata": {},
   "outputs": [],
   "source": [
    "input_size"
   ]
  },
  {
   "cell_type": "code",
   "execution_count": null,
   "metadata": {},
   "outputs": [],
   "source": [
    "total = 0\n",
    "useful = 0\n",
    "train_city = set()\n",
    "test_city = set()\n",
    "for city in data.values():\n",
    "\ttotal += len(city)\n",
    "\tif len(city) > 60:\n",
    "\t\ttest_city.add(city[0]['true_city'])\n",
    "\t\ttrain_city.add(city[0]['true_city'])\n",
    "\telif len(city) > 30:\n",
    "\t\ttrain_city.add(city[0]['true_city'])\n",
    "\telse:\n",
    "\t\tcontinue\n",
    "\tfor p in city:\n",
    "\t\tif type(p['patient_vector']) == list:\n",
    "\t\t\tuseful += 1\n",
    "print(train_city)\n",
    "print(test_city)\n",
    "print(total)\n",
    "print(useful)"
   ]
  },
  {
   "cell_type": "code",
   "execution_count": null,
   "metadata": {},
   "outputs": [],
   "source": [
    "# tset = set()\n",
    "# for p in data['重庆']:\n",
    "# \ttset.add(p['time'])\n",
    "# tset"
   ]
  },
  {
   "cell_type": "code",
   "execution_count": null,
   "metadata": {},
   "outputs": [],
   "source": [
    "temp = np.empty((useful,input_size))\n",
    "temp_i = 0\n",
    "for city_string in train_city:\n",
    "\tcity = data[city_string]\n",
    "\tfor p in city:\n",
    "\t\tif type(p['patient_vector']) == list:\n",
    "\t\t\ttemp[temp_i] = p['patient_vector']\n",
    "\t\t\ttemp_i += 1\n",
    "##print(temp[:,:2])\n",
    "print(temp.shape)\n",
    "pca = PCA(n_components=5)\n",
    "result = pca.fit_transform(temp)\n",
    "print(result.shape)\n",
    "print(result)"
   ]
  },
  {
   "cell_type": "code",
   "execution_count": null,
   "metadata": {},
   "outputs": [],
   "source": [
    "temp_i = 0\n",
    "for city_string in train_city:\n",
    "\tcity = data[city_string]\n",
    "\tfor p in city:\n",
    "\t\tif type(p['patient_vector']) == list:\n",
    "\t\t\tp['patient_vector'] = temp[temp_i]\n",
    "\t\t\ttemp_i += 1"
   ]
  },
  {
   "cell_type": "code",
   "execution_count": null,
   "metadata": {},
   "outputs": [],
   "source": [
    "# start_date = datetime.strptime('2022:03:08','%Y:%m:%d')\n",
    "# end_date = datetime.strptime('2022:03:23','%Y:%m:%d')\n",
    "# type((end_date-start_date).days)\n",
    "# input_size"
   ]
  },
  {
   "cell_type": "code",
   "execution_count": null,
   "metadata": {},
   "outputs": [],
   "source": [
    "input_size = result.shape[1]\n",
    "datas = {}\n",
    "for city_string in train_city:\n",
    "\tcity = data[city_string]\n",
    "\tstart_date = datetime.strptime(city[0]['time'],'%Y:%m:%d')\n",
    "\tend_date = datetime.strptime(city[-1]['time'],'%Y:%m:%d')\n",
    "\t# start_date = datetime.strptime('2022:03:08','%Y:%m:%d')\n",
    "\t# end_date = datetime.strptime('2022:03:23','%Y:%m:%d')\n",
    "\t# CNT = []\n",
    "\t# VECTOR = []\n",
    "\t# while start_date < end_date:\n",
    "\t# \tstart_date += timedelta(days=1)\n",
    "\t# \tcnt = 0\n",
    "\t# \tvector = []\n",
    "\t# \tfor p in city:\n",
    "\t# \t\tif p['time']==(start_date).strftime('%Y:%m:%d'):\n",
    "\t# \t\t\tcnt+=1\n",
    "\t# \t\t\tvector.append(p['patient_vector'])\n",
    "\n",
    "\t# \tif any((type(v)==list for v in vector)):\n",
    "\t# \t\tvector = np.array([v for v in vector if type(v)==list])\n",
    "\t# \t\tvector = np.mean(vector,axis=0)\n",
    "\t# \telse:\n",
    "\t# \t\tvector = np.zeros((input_size,))\n",
    "\t# \tCNT.append(cnt)\n",
    "\t# \tVECTOR.append(vector)\n",
    "\t# CNT = np.array(CNT)\n",
    "\t# VECTOR = np.array(VECTOR)\n",
    "\t# temp = np.hstack((CNT.reshape(-1,1),VECTOR))\n",
    "\tperiod = (end_date-start_date).days+1\n",
    "\tCNT = np.zeros((period))\n",
    "\tVECTOR = np.zeros((period, input_size))\n",
    "\tcnt = 0\n",
    "\tvector = []\n",
    "\tday_idx = 0\n",
    "\tfor p in city:\n",
    "\t\tif p['time'] != (start_date).strftime('%Y:%m:%d'):\n",
    "\t\t\tif any((type(v)==list for v in vector)):\n",
    "\t\t\t\tvector = np.array([v for v in vector if type(v)==list])\n",
    "\t\t\t\tVECTOR[day_idx] = np.mean(vector,axis=0)\n",
    "\t\t\tCNT[day_idx] = cnt\n",
    "\t\t\tcnt = 0\n",
    "\t\t\tvector = []\n",
    "\t\twhile p['time'] != (start_date).strftime('%Y:%m:%d'):\n",
    "\t\t\tstart_date += timedelta(days=1)\n",
    "\t\t\tday_idx += 1\n",
    "\t\tcnt += 1\n",
    "\t\tvector.append(p['patient_vector'])\n",
    "\telse:\n",
    "\t\tif any((type(v)==list for v in vector)):\n",
    "\t\t\tvector = np.array([v for v in vector if type(v)==list])\n",
    "\t\t\tVECTOR[day_idx] = np.mean(vector,axis=0)\n",
    "\t\tCNT[day_idx] = cnt\n",
    "\ttemp = np.hstack((CNT.reshape(-1,1),VECTOR))\n",
    "\t# if any(CNT[i-3:i,0]) or any(CNT[i+1:i,0]) \n",
    "\tdatas[city_string] = torch.tensor(temp.reshape(-1,1,input_size+1)).float()\n",
    "# input_size += 1"
   ]
  },
  {
   "cell_type": "code",
   "execution_count": null,
   "metadata": {},
   "outputs": [],
   "source": [
    "datas.keys()\n",
    "# datas['重庆'].size()"
   ]
  },
  {
   "cell_type": "code",
   "execution_count": null,
   "metadata": {},
   "outputs": [],
   "source": [
    "# device = torch.device(\"cuda:0\" if torch.cuda.is_available() else \"cpu\")"
   ]
  },
  {
   "cell_type": "code",
   "execution_count": null,
   "metadata": {},
   "outputs": [],
   "source": [
    "test_size = 1\n",
    "len(datas)"
   ]
  },
  {
   "cell_type": "code",
   "execution_count": null,
   "metadata": {},
   "outputs": [],
   "source": [
    "class Net(nn.Module):\n",
    "    def __init__(self,input_size,hidden_size,output_size):\n",
    "        super(Net, self).__init__()\n",
    "        self.gru = nn.GRU(input_size=input_size+1, \\\n",
    "            hidden_size=hidden_size,num_layers=2)\n",
    "        self.linear = nn.Linear(hidden_size,output_size) \n",
    "        self.relu = nn.ReLU()\n",
    "\n",
    "    def forward(self, x):\n",
    "        output, h_n = self.gru(x)\n",
    "        # output = self.relu(output[-1])\n",
    "        output = self.linear(output)\n",
    "        output = self.relu(output[-1])\n",
    "        return output\n",
    "\n",
    "net = Net(input_size,14,1)\n",
    "# net.to(device)"
   ]
  },
  {
   "cell_type": "code",
   "execution_count": null,
   "metadata": {},
   "outputs": [],
   "source": [
    "\n",
    "# create your optimizer\n",
    "optimizer = optim.Adam(net.parameters(), lr=0.01)\n",
    "criterion = nn.MSELoss()\n"
   ]
  },
  {
   "cell_type": "code",
   "execution_count": null,
   "metadata": {},
   "outputs": [],
   "source": [
    "def data_iter(data,seq_len,test_size,in_test):\n",
    "\tif in_test:\n",
    "\t\tindexs = np.arange(len(data)-seq_len-test_size)\n",
    "\telse:\n",
    "\t\tindexs = np.arange(len(data)-seq_len)\n",
    "\trandom.shuffle(indexs)\n",
    "\tfor i in indexs:\n",
    "\t\t# print(data[i:i+7].shape)\n",
    "\t\tyield data[i:i+seq_len],data[i+seq_len][0][0]"
   ]
  },
  {
   "cell_type": "code",
   "execution_count": null,
   "metadata": {},
   "outputs": [],
   "source": [
    "# city_keys = list(datas.keys())\n",
    "# random.shuffle(city_keys)\n",
    "# city_keys"
   ]
  },
  {
   "cell_type": "code",
   "execution_count": null,
   "metadata": {},
   "outputs": [],
   "source": [
    "epoches = 200\n",
    "seq_len = 7\n",
    "for epoch in tqdm(range(epoches)):  # loop over the dataset multiple times\n",
    "\n",
    "    running_loss = 0.0\n",
    "    city_keys = list(datas.keys())\n",
    "    random.shuffle(city_keys)\n",
    "    for city in city_keys:\n",
    "        \n",
    "        for data in data_iter(datas[city],seq_len,test_size,city in test_city):\n",
    "            # get the inputs; data is a list of [inputs, labels]\n",
    "            inputs, labels = data\n",
    "            # inputs, labels = inputs.to(device), labels.view(1,1).to(device)\n",
    "            inputs, labels = inputs, labels.view(1,1)\n",
    "            # zero the parameter gradients\n",
    "            optimizer.zero_grad()\n",
    "\n",
    "            # forward + backward + optimize\n",
    "            outputs = net(inputs)\n",
    "            loss = criterion(outputs, labels)\n",
    "            loss.backward()\n",
    "            optimizer.step()\n",
    "\n",
    "            running_loss += loss.item()\n",
    "\n",
    "    if epoch%5 == 4:\n",
    "        print(epoch+1,running_loss)\n",
    "\n",
    "    running_loss = 0.0\n",
    "\n",
    "print('Finished Training')"
   ]
  },
  {
   "cell_type": "code",
   "execution_count": null,
   "metadata": {},
   "outputs": [],
   "source": [
    "for i in range(test_size):\n",
    "\tfor city_string in test_city:\n",
    "\t\tinputs = datas[city_string][-i-seq_len-1:-i-1]\n",
    "\t\toutputs = net(inputs)\n",
    "\t\tprint(city_string,int(outputs)+1, \\\n",
    "\t\t\tint(datas[city_string][-i-1][0][0]))"
   ]
  },
  {
   "cell_type": "code",
   "execution_count": null,
   "metadata": {},
   "outputs": [],
   "source": [
    "# for city_string in train_city:\n",
    "\n",
    "# \tinputs = datas[city_string][-9:-2]\n",
    "# \toutputs = net(inputs)\n",
    "# \tprint(city_string,int(outputs)+1,int(datas[city_string][-2][0][0]))"
   ]
  },
  {
   "cell_type": "code",
   "execution_count": null,
   "metadata": {},
   "outputs": [],
   "source": [
    "# for i in net.gru.parameters():\n",
    "# \tprint(i)"
   ]
  }
 ],
 "metadata": {
  "interpreter": {
   "hash": "dfa0342052044840b0de6043bfc39f6805ffa1411cba6a71c8075fbda85253ce"
  },
  "kernelspec": {
   "display_name": "Python 3.8.5 ('base')",
   "language": "python",
   "name": "python3"
  },
  "language_info": {
   "codemirror_mode": {
    "name": "ipython",
    "version": 3
   },
   "file_extension": ".py",
   "mimetype": "text/x-python",
   "name": "python",
   "nbconvert_exporter": "python",
   "pygments_lexer": "ipython3",
   "version": "3.8.5"
  },
  "orig_nbformat": 4
 },
 "nbformat": 4,
 "nbformat_minor": 2
}
