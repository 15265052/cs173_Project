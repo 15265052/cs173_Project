{
 "cells": [
  {
   "cell_type": "code",
   "execution_count": null,
   "metadata": {},
   "outputs": [],
   "source": [
    "import numpy as np\n",
    "import pandas as pd\n",
    "import matplotlib.pyplot as plt\n",
    "import seaborn as sns\n",
    "from pyecharts import options as opts\n",
    "from pyecharts.charts import Map\n",
    "from pyecharts.globals import ThemeType\n",
    "import os\n",
    "from copy import deepcopy\n",
    "\n",
    "plt.rcParams['font.family'] = ['Noto Serif CJK JP'] "
   ]
  },
  {
   "cell_type": "code",
   "execution_count": null,
   "metadata": {},
   "outputs": [],
   "source": [
    "def pre_data():\n",
    "\tprovinces = []\n",
    "\tfor root, dirs, files in os.walk('data'):\n",
    "\t\tfor file in files:\n",
    "\t\t\tif file[-14:] == 'daily_data.csv':\n",
    "\t\t\t\tprovinces.append([file,file[:-24]])\n",
    "\tfor province in provinces:\n",
    "\t\tp = pd.read_csv('data/'+province[0])\n",
    "\t\tprovince.append((p.iloc[-30:].sum()[['newConfirm','wzz_add','newHeal','newDead']]))\n",
    "\tprovinces.sort(key=lambda x:(x[2][0],x[2][1]),reverse=True)\n",
    "\ttemp = deepcopy(provinces)\n",
    "\tprovinces = []\n",
    "\tfor p in temp:\n",
    "\t\tprovinces.append([p[1],'确诊',p[2][0]])\n",
    "\t\tprovinces.append([p[1],'无症状',p[2][1]])\n",
    "\t\tprovinces.append([p[1],'治愈',p[2][2]])\n",
    "\t\tprovinces.append([p[1],'死亡',p[2][3]])\n",
    "\tprovinces = pd.DataFrame(provinces,columns=['省份','种类','人数'])\n",
    "\tprovinces.to_csv('data/visualized_data.csv',index=False)\n",
    "\treturn 'data/visualized_data.csv'"
   ]
  },
  {
   "cell_type": "code",
   "execution_count": null,
   "metadata": {},
   "outputs": [],
   "source": [
    "province_info = pd.read_csv(pre_data())"
   ]
  },
  {
   "cell_type": "code",
   "execution_count": null,
   "metadata": {},
   "outputs": [],
   "source": [
    "plt.figure(figsize=(15,7))\n",
    "sns.barplot(x='省份',y='人数',hue='种类',data=province_info)\n",
    "plt.title('近一月全国新冠肺炎病例')\n",
    "plt.xticks(rotation=30)\n",
    "plt.savefig('result/近一月全国新冠肺炎病例.png')\n"
   ]
  },
  {
   "cell_type": "code",
   "execution_count": null,
   "metadata": {},
   "outputs": [],
   "source": [
    "province_info = [[i['省份'],i['人数']] for j,i in province_info.iterrows() if i['种类']== '确诊']"
   ]
  },
  {
   "cell_type": "code",
   "execution_count": null,
   "metadata": {},
   "outputs": [],
   "source": [
    "def map_visulization():\n",
    "    c = (\n",
    "        Map(init_opts=opts.InitOpts())\n",
    "        .add(\"确诊病例数\", province_info, \"china\")\n",
    "        .set_series_opts(label_opts=opts.LabelOpts())\n",
    "        .set_global_opts(title_opts=opts.TitleOpts(title=\"近一月全国新冠肺炎确诊病例\"),\n",
    "        visualmap_opts=opts.VisualMapOpts())\n",
    "        .render(\"result/近一月全国新冠肺炎确诊病例.html\")\n",
    "    )\n"
   ]
  },
  {
   "cell_type": "code",
   "execution_count": null,
   "metadata": {},
   "outputs": [],
   "source": [
    "map_visulization()"
   ]
  }
 ],
 "metadata": {
  "interpreter": {
   "hash": "dfa0342052044840b0de6043bfc39f6805ffa1411cba6a71c8075fbda85253ce"
  },
  "kernelspec": {
   "display_name": "Python 3.8.5 64-bit ('base': conda)",
   "language": "python",
   "name": "python3"
  },
  "language_info": {
   "codemirror_mode": {
    "name": "ipython",
    "version": 3
   },
   "file_extension": ".py",
   "mimetype": "text/x-python",
   "name": "python",
   "nbconvert_exporter": "python",
   "pygments_lexer": "ipython3",
   "version": "3.8.5"
  },
  "orig_nbformat": 2
 },
 "nbformat": 4,
 "nbformat_minor": 2
}
